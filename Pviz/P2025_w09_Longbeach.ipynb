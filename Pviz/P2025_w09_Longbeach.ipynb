{
 "cells": [
  {
   "cell_type": "markdown",
   "id": "41fa03f0",
   "metadata": {},
   "source": [
    "# Long Beach Animal Shelter\n",
    "**Week 09-2025**"
   ]
  },
  {
   "cell_type": "code",
   "execution_count": 1,
   "id": "f401051b",
   "metadata": {},
   "outputs": [],
   "source": [
    "import pydytuesday\n",
    "import pandas as pd\n",
    "import matplotlib.pyplot as plt\n",
    "import seaborn as sns   \n",
    "import numpy as np"
   ]
  },
  {
   "cell_type": "markdown",
   "id": "8ad06453",
   "metadata": {},
   "source": [
    "## Data"
   ]
  },
  {
   "cell_type": "code",
   "execution_count": 2,
   "id": "5b37b3d4",
   "metadata": {},
   "outputs": [
    {
     "data": {
      "text/plain": [
       "'c:\\\\Users\\\\birus\\\\OneDrive\\\\Desktop\\\\UW\\\\RDocs\\\\VIZ2025\\\\Pviz'"
      ]
     },
     "execution_count": 2,
     "metadata": {},
     "output_type": "execute_result"
    }
   ],
   "source": [
    "pwd()"
   ]
  },
  {
   "cell_type": "code",
   "execution_count": 4,
   "id": "9c6d199f",
   "metadata": {},
   "outputs": [],
   "source": [
    "# Download files from the week, which you can then read in locally (save in wd)\n",
    "# pydytuesday.get_date('2025-03-04')"
   ]
  },
  {
   "cell_type": "code",
   "execution_count": 9,
   "id": "a32405c7",
   "metadata": {},
   "outputs": [
    {
     "data": {
      "application/vnd.microsoft.datawrangler.viewer.v0+json": {
       "columns": [
        {
         "name": "index",
         "rawType": "int64",
         "type": "integer"
        },
        {
         "name": "animal_id",
         "rawType": "object",
         "type": "string"
        },
        {
         "name": "animal_name",
         "rawType": "object",
         "type": "unknown"
        },
        {
         "name": "animal_type",
         "rawType": "object",
         "type": "string"
        },
        {
         "name": "primary_color",
         "rawType": "object",
         "type": "string"
        },
        {
         "name": "secondary_color",
         "rawType": "object",
         "type": "unknown"
        },
        {
         "name": "sex",
         "rawType": "object",
         "type": "string"
        },
        {
         "name": "dob",
         "rawType": "object",
         "type": "unknown"
        },
        {
         "name": "intake_date",
         "rawType": "object",
         "type": "string"
        },
        {
         "name": "intake_condition",
         "rawType": "object",
         "type": "string"
        },
        {
         "name": "intake_type",
         "rawType": "object",
         "type": "string"
        },
        {
         "name": "intake_subtype",
         "rawType": "object",
         "type": "string"
        },
        {
         "name": "reason_for_intake",
         "rawType": "object",
         "type": "unknown"
        },
        {
         "name": "outcome_date",
         "rawType": "object",
         "type": "string"
        },
        {
         "name": "crossing",
         "rawType": "object",
         "type": "string"
        },
        {
         "name": "jurisdiction",
         "rawType": "object",
         "type": "string"
        },
        {
         "name": "outcome_type",
         "rawType": "object",
         "type": "string"
        },
        {
         "name": "outcome_subtype",
         "rawType": "object",
         "type": "string"
        },
        {
         "name": "latitude",
         "rawType": "float64",
         "type": "float"
        },
        {
         "name": "longitude",
         "rawType": "float64",
         "type": "float"
        },
        {
         "name": "outcome_is_dead",
         "rawType": "bool",
         "type": "boolean"
        },
        {
         "name": "was_outcome_alive",
         "rawType": "bool",
         "type": "boolean"
        },
        {
         "name": "geopoint",
         "rawType": "object",
         "type": "string"
        }
       ],
       "ref": "9de3a08a-fcf9-4c4e-ad0f-0914c2a0d6eb",
       "rows": [
        [
         "0",
         "A693708",
         "*charlien",
         "dog",
         "white",
         null,
         "Female",
         "2013-02-21",
         "2023-02-20",
         "ill mild",
         "stray",
         "otc",
         null,
         "2023-02-26",
         "[2600 BLK LONG BEACH BLVD, LONG BEACH CA, 90806",
         "Long Beach",
         "euthanasia",
         "ill severe",
         "33.8047935",
         "-118.1889261",
         "True",
         "False",
         "33.8047935, -118.1889261"
        ],
        [
         "1",
         "A708149",
         null,
         "reptile",
         "brown",
         "green",
         "Unknown",
         null,
         "2023-10-03",
         "normal",
         "stray",
         "field",
         null,
         "2023-10-03",
         "`600 BLK E HARCOURT, LB 90805",
         "Long Beach",
         "rescue",
         "other resc",
         "33.8679994",
         "-118.2009307",
         "False",
         "True",
         "33.8679994, -118.2009307"
        ],
        [
         "2",
         "A638068",
         null,
         "bird",
         "green",
         "red",
         "Unknown",
         null,
         "2020-01-01",
         "injured  severe",
         "wildlife",
         "field",
         null,
         "2020-01-01",
         "0 BLK GRAND AVE, LONG BEACH, CA 90803",
         "Long Beach",
         "euthanasia",
         "inj severe",
         "33.7604783",
         "-118.1480912",
         "True",
         "False",
         "33.7604783, -118.1480912"
        ],
        [
         "3",
         "A639310",
         null,
         "bird",
         "white",
         "gray",
         "Unknown",
         null,
         "2020-02-02",
         "ill severe",
         "wildlife",
         "field",
         null,
         "2020-02-02",
         "0 BLK TEMPLE AVE, LONG BEACH, CA 90803",
         "Long Beach",
         "transfer",
         "lbah",
         "33.7624598",
         "-118.1596777",
         "False",
         "True",
         "33.7624598, -118.1596777"
        ],
        [
         "4",
         "A618968",
         "*morgan",
         "cat",
         "black",
         "white",
         "Female",
         "2014-12-18",
         "2018-12-18",
         "injured  severe",
         "stray",
         "field",
         null,
         "2019-01-13",
         "0 BLK W ZANE ST, LONG BEACH, CA 90805",
         "Long Beach",
         "rescue",
         "littlelion",
         "33.8495009",
         "-118.1949053",
         "False",
         "True",
         "33.8495009, -118.1949053"
        ]
       ],
       "shape": {
        "columns": 22,
        "rows": 5
       }
      },
      "text/html": [
       "<div>\n",
       "<style scoped>\n",
       "    .dataframe tbody tr th:only-of-type {\n",
       "        vertical-align: middle;\n",
       "    }\n",
       "\n",
       "    .dataframe tbody tr th {\n",
       "        vertical-align: top;\n",
       "    }\n",
       "\n",
       "    .dataframe thead th {\n",
       "        text-align: right;\n",
       "    }\n",
       "</style>\n",
       "<table border=\"1\" class=\"dataframe\">\n",
       "  <thead>\n",
       "    <tr style=\"text-align: right;\">\n",
       "      <th></th>\n",
       "      <th>animal_id</th>\n",
       "      <th>animal_name</th>\n",
       "      <th>animal_type</th>\n",
       "      <th>primary_color</th>\n",
       "      <th>secondary_color</th>\n",
       "      <th>sex</th>\n",
       "      <th>dob</th>\n",
       "      <th>intake_date</th>\n",
       "      <th>intake_condition</th>\n",
       "      <th>intake_type</th>\n",
       "      <th>...</th>\n",
       "      <th>outcome_date</th>\n",
       "      <th>crossing</th>\n",
       "      <th>jurisdiction</th>\n",
       "      <th>outcome_type</th>\n",
       "      <th>outcome_subtype</th>\n",
       "      <th>latitude</th>\n",
       "      <th>longitude</th>\n",
       "      <th>outcome_is_dead</th>\n",
       "      <th>was_outcome_alive</th>\n",
       "      <th>geopoint</th>\n",
       "    </tr>\n",
       "  </thead>\n",
       "  <tbody>\n",
       "    <tr>\n",
       "      <th>0</th>\n",
       "      <td>A693708</td>\n",
       "      <td>*charlien</td>\n",
       "      <td>dog</td>\n",
       "      <td>white</td>\n",
       "      <td>NaN</td>\n",
       "      <td>Female</td>\n",
       "      <td>2013-02-21</td>\n",
       "      <td>2023-02-20</td>\n",
       "      <td>ill mild</td>\n",
       "      <td>stray</td>\n",
       "      <td>...</td>\n",
       "      <td>2023-02-26</td>\n",
       "      <td>[2600 BLK LONG BEACH BLVD, LONG BEACH CA, 90806</td>\n",
       "      <td>Long Beach</td>\n",
       "      <td>euthanasia</td>\n",
       "      <td>ill severe</td>\n",
       "      <td>33.804794</td>\n",
       "      <td>-118.188926</td>\n",
       "      <td>True</td>\n",
       "      <td>False</td>\n",
       "      <td>33.8047935, -118.1889261</td>\n",
       "    </tr>\n",
       "    <tr>\n",
       "      <th>1</th>\n",
       "      <td>A708149</td>\n",
       "      <td>NaN</td>\n",
       "      <td>reptile</td>\n",
       "      <td>brown</td>\n",
       "      <td>green</td>\n",
       "      <td>Unknown</td>\n",
       "      <td>NaN</td>\n",
       "      <td>2023-10-03</td>\n",
       "      <td>normal</td>\n",
       "      <td>stray</td>\n",
       "      <td>...</td>\n",
       "      <td>2023-10-03</td>\n",
       "      <td>`600 BLK E HARCOURT, LB 90805</td>\n",
       "      <td>Long Beach</td>\n",
       "      <td>rescue</td>\n",
       "      <td>other resc</td>\n",
       "      <td>33.867999</td>\n",
       "      <td>-118.200931</td>\n",
       "      <td>False</td>\n",
       "      <td>True</td>\n",
       "      <td>33.8679994, -118.2009307</td>\n",
       "    </tr>\n",
       "    <tr>\n",
       "      <th>2</th>\n",
       "      <td>A638068</td>\n",
       "      <td>NaN</td>\n",
       "      <td>bird</td>\n",
       "      <td>green</td>\n",
       "      <td>red</td>\n",
       "      <td>Unknown</td>\n",
       "      <td>NaN</td>\n",
       "      <td>2020-01-01</td>\n",
       "      <td>injured  severe</td>\n",
       "      <td>wildlife</td>\n",
       "      <td>...</td>\n",
       "      <td>2020-01-01</td>\n",
       "      <td>0 BLK GRAND AVE, LONG BEACH, CA 90803</td>\n",
       "      <td>Long Beach</td>\n",
       "      <td>euthanasia</td>\n",
       "      <td>inj severe</td>\n",
       "      <td>33.760478</td>\n",
       "      <td>-118.148091</td>\n",
       "      <td>True</td>\n",
       "      <td>False</td>\n",
       "      <td>33.7604783, -118.1480912</td>\n",
       "    </tr>\n",
       "    <tr>\n",
       "      <th>3</th>\n",
       "      <td>A639310</td>\n",
       "      <td>NaN</td>\n",
       "      <td>bird</td>\n",
       "      <td>white</td>\n",
       "      <td>gray</td>\n",
       "      <td>Unknown</td>\n",
       "      <td>NaN</td>\n",
       "      <td>2020-02-02</td>\n",
       "      <td>ill severe</td>\n",
       "      <td>wildlife</td>\n",
       "      <td>...</td>\n",
       "      <td>2020-02-02</td>\n",
       "      <td>0 BLK TEMPLE AVE, LONG BEACH, CA 90803</td>\n",
       "      <td>Long Beach</td>\n",
       "      <td>transfer</td>\n",
       "      <td>lbah</td>\n",
       "      <td>33.762460</td>\n",
       "      <td>-118.159678</td>\n",
       "      <td>False</td>\n",
       "      <td>True</td>\n",
       "      <td>33.7624598, -118.1596777</td>\n",
       "    </tr>\n",
       "    <tr>\n",
       "      <th>4</th>\n",
       "      <td>A618968</td>\n",
       "      <td>*morgan</td>\n",
       "      <td>cat</td>\n",
       "      <td>black</td>\n",
       "      <td>white</td>\n",
       "      <td>Female</td>\n",
       "      <td>2014-12-18</td>\n",
       "      <td>2018-12-18</td>\n",
       "      <td>injured  severe</td>\n",
       "      <td>stray</td>\n",
       "      <td>...</td>\n",
       "      <td>2019-01-13</td>\n",
       "      <td>0 BLK W ZANE ST, LONG BEACH, CA 90805</td>\n",
       "      <td>Long Beach</td>\n",
       "      <td>rescue</td>\n",
       "      <td>littlelion</td>\n",
       "      <td>33.849501</td>\n",
       "      <td>-118.194905</td>\n",
       "      <td>False</td>\n",
       "      <td>True</td>\n",
       "      <td>33.8495009, -118.1949053</td>\n",
       "    </tr>\n",
       "  </tbody>\n",
       "</table>\n",
       "<p>5 rows × 22 columns</p>\n",
       "</div>"
      ],
      "text/plain": [
       "  animal_id animal_name animal_type primary_color secondary_color      sex  \\\n",
       "0   A693708   *charlien         dog         white             NaN   Female   \n",
       "1   A708149         NaN     reptile         brown           green  Unknown   \n",
       "2   A638068         NaN        bird         green             red  Unknown   \n",
       "3   A639310         NaN        bird         white            gray  Unknown   \n",
       "4   A618968     *morgan         cat         black           white   Female   \n",
       "\n",
       "          dob intake_date intake_condition intake_type  ... outcome_date  \\\n",
       "0  2013-02-21  2023-02-20         ill mild       stray  ...   2023-02-26   \n",
       "1         NaN  2023-10-03           normal       stray  ...   2023-10-03   \n",
       "2         NaN  2020-01-01  injured  severe    wildlife  ...   2020-01-01   \n",
       "3         NaN  2020-02-02       ill severe    wildlife  ...   2020-02-02   \n",
       "4  2014-12-18  2018-12-18  injured  severe       stray  ...   2019-01-13   \n",
       "\n",
       "                                          crossing jurisdiction outcome_type  \\\n",
       "0  [2600 BLK LONG BEACH BLVD, LONG BEACH CA, 90806   Long Beach   euthanasia   \n",
       "1                    `600 BLK E HARCOURT, LB 90805   Long Beach       rescue   \n",
       "2            0 BLK GRAND AVE, LONG BEACH, CA 90803   Long Beach   euthanasia   \n",
       "3           0 BLK TEMPLE AVE, LONG BEACH, CA 90803   Long Beach     transfer   \n",
       "4            0 BLK W ZANE ST, LONG BEACH, CA 90805   Long Beach       rescue   \n",
       "\n",
       "  outcome_subtype   latitude   longitude  outcome_is_dead  was_outcome_alive  \\\n",
       "0      ill severe  33.804794 -118.188926             True              False   \n",
       "1      other resc  33.867999 -118.200931            False               True   \n",
       "2      inj severe  33.760478 -118.148091             True              False   \n",
       "3            lbah  33.762460 -118.159678            False               True   \n",
       "4      littlelion  33.849501 -118.194905            False               True   \n",
       "\n",
       "                   geopoint  \n",
       "0  33.8047935, -118.1889261  \n",
       "1  33.8679994, -118.2009307  \n",
       "2  33.7604783, -118.1480912  \n",
       "3  33.7624598, -118.1596777  \n",
       "4  33.8495009, -118.1949053  \n",
       "\n",
       "[5 rows x 22 columns]"
      ]
     },
     "execution_count": 9,
     "metadata": {},
     "output_type": "execute_result"
    }
   ],
   "source": [
    "\n",
    "\n",
    "# Option 2: Read directly from GitHub and assign to an object\n",
    "url_main = 'https://raw.githubusercontent.com/rfordatascience/tidytuesday/main/'\n",
    "url_longbeach = url_main + 'data/2025/2025-03-04/longbeach.csv'\n",
    "\n",
    "longbeach = pd.read_csv(url_longbeach)\n",
    "longbeach.head()\n"
   ]
  },
  {
   "cell_type": "code",
   "execution_count": 10,
   "id": "eafe4bb0",
   "metadata": {},
   "outputs": [
    {
     "data": {
      "text/plain": [
       "(29787, 22)"
      ]
     },
     "execution_count": 10,
     "metadata": {},
     "output_type": "execute_result"
    }
   ],
   "source": [
    "longbeach.shape"
   ]
  },
  {
   "cell_type": "code",
   "execution_count": 19,
   "id": "a86e43a9",
   "metadata": {},
   "outputs": [
    {
     "data": {
      "text/plain": [
       "<Axes: ylabel='animal_type'>"
      ]
     },
     "execution_count": 19,
     "metadata": {},
     "output_type": "execute_result"
    },
    {
     "data": {
      "image/png": "[encoded data removed]",
      "text/plain": [
       "<Figure size 600x400 with 1 Axes>"
      ]
     },
     "metadata": {},
     "output_type": "display_data"
    }
   ],
   "source": [
    "longbeach.value_counts('animal_type').plot(kind='barh', figsize=(6, 4), color='lightblue')"
   ]
  },
  {
   "cell_type": "code",
   "execution_count": null,
   "id": "2c5eb362",
   "metadata": {},
   "outputs": [],
   "source": []
  }
 ],
 "metadata": {
  "kernelspec": {
   "display_name": ".venv",
   "language": "python",
   "name": "python3"
  },
  "language_info": {
   "codemirror_mode": {
    "name": "ipython",
    "version": 3
   },
   "file_extension": ".py",
   "mimetype": "text/x-python",
   "name": "python",
   "nbconvert_exporter": "python",
   "pygments_lexer": "ipython3",
   "version": "3.13.5"
  }
 },
 "nbformat": 4,
 "nbformat_minor": 5
}
