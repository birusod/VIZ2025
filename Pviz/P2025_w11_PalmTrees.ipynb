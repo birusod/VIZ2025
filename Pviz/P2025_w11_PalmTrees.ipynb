{
 "cells": [
  {
   "cell_type": "markdown",
   "id": "a3f4b930",
   "metadata": {},
   "source": [
    "# Palm Trees"
   ]
  },
  {
   "cell_type": "code",
   "execution_count": 2,
   "id": "129c3cf2",
   "metadata": {},
   "outputs": [],
   "source": [
    "import pandas as pd\n",
    "import numpy as np\n",
    "import matplotlib.pyplot as plt\n",
    "import seaborn as sns\n",
    "import pydytuesday"
   ]
  },
  {
   "cell_type": "code",
   "execution_count": 8,
   "id": "bf4f875f",
   "metadata": {},
   "outputs": [
    {
     "data": {
      "application/vnd.microsoft.datawrangler.viewer.v0+json": {
       "columns": [
        {
         "name": "index",
         "rawType": "int64",
         "type": "integer"
        },
        {
         "name": "spec_name",
         "rawType": "object",
         "type": "string"
        },
        {
         "name": "acc_genus",
         "rawType": "object",
         "type": "string"
        },
        {
         "name": "acc_species",
         "rawType": "object",
         "type": "string"
        },
        {
         "name": "palm_tribe",
         "rawType": "object",
         "type": "string"
        },
        {
         "name": "palm_subfamily",
         "rawType": "object",
         "type": "string"
        },
        {
         "name": "climbing",
         "rawType": "object",
         "type": "string"
        },
        {
         "name": "acaulescent",
         "rawType": "object",
         "type": "string"
        },
        {
         "name": "erect",
         "rawType": "object",
         "type": "string"
        },
        {
         "name": "stem_solitary",
         "rawType": "object",
         "type": "string"
        },
        {
         "name": "stem_armed",
         "rawType": "object",
         "type": "string"
        },
        {
         "name": "leaves_armed",
         "rawType": "object",
         "type": "string"
        },
        {
         "name": "max_stem_height_m",
         "rawType": "float64",
         "type": "float"
        },
        {
         "name": "max_stem_dia_cm",
         "rawType": "float64",
         "type": "float"
        },
        {
         "name": "understorey_canopy",
         "rawType": "object",
         "type": "string"
        },
        {
         "name": "max_leaf_number",
         "rawType": "float64",
         "type": "float"
        },
        {
         "name": "max__blade__length_m",
         "rawType": "float64",
         "type": "float"
        },
        {
         "name": "max__rachis__length_m",
         "rawType": "float64",
         "type": "float"
        },
        {
         "name": "max__petiole_length_m",
         "rawType": "float64",
         "type": "float"
        },
        {
         "name": "average_fruit_length_cm",
         "rawType": "float64",
         "type": "float"
        },
        {
         "name": "min_fruit_length_cm",
         "rawType": "float64",
         "type": "float"
        },
        {
         "name": "max_fruit_length_cm",
         "rawType": "float64",
         "type": "float"
        },
        {
         "name": "average_fruit_width_cm",
         "rawType": "float64",
         "type": "float"
        },
        {
         "name": "min_fruit_width_cm",
         "rawType": "float64",
         "type": "float"
        },
        {
         "name": "max_fruit_width_cm",
         "rawType": "float64",
         "type": "float"
        },
        {
         "name": "fruit_size_categorical",
         "rawType": "object",
         "type": "string"
        },
        {
         "name": "fruit_shape",
         "rawType": "object",
         "type": "unknown"
        },
        {
         "name": "fruit_color_description",
         "rawType": "object",
         "type": "string"
        },
        {
         "name": "main_fruit_colors",
         "rawType": "object",
         "type": "string"
        },
        {
         "name": "conspicuousness",
         "rawType": "object",
         "type": "string"
        }
       ],
       "ref": "665df46e-b278-447a-b03d-131a4e7bad06",
       "rows": [
        [
         "0",
         "Acanthophoenix crinita",
         "Acanthophoenix",
         "crinita",
         "Areceae",
         "Arecoideae",
         "climbing",
         "acaulescent",
         "non-erect",
         "non-solitary",
         "non-armed",
         "non-armed",
         "10.0",
         "20.0",
         "canopy",
         "15.0",
         "2.3",
         null,
         null,
         "0.65",
         "0.6",
         "0.7",
         "0.5",
         null,
         null,
         "small",
         null,
         "black",
         "black",
         "cryptic"
        ],
        [
         "1",
         "Acanthophoenix rousselii",
         "Acanthophoenix",
         "rousselii",
         "Areceae",
         "Arecoideae",
         "climbing",
         "acaulescent",
         "non-erect",
         "non-solitary",
         "non-armed",
         "non-armed",
         "25.0",
         "30.0",
         "canopy",
         null,
         "3.0",
         null,
         null,
         "2.0",
         null,
         null,
         "0.8",
         null,
         null,
         "small",
         "ovoid",
         "black",
         "black",
         "cryptic"
        ],
        [
         "2",
         "Acanthophoenix rubra",
         "Acanthophoenix",
         "rubra",
         "Areceae",
         "Arecoideae",
         "climbing",
         "acaulescent",
         "non-erect",
         "non-solitary",
         "non-armed",
         "non-armed",
         "15.0",
         "18.0",
         "canopy",
         "20.0",
         "3.1",
         "3.0",
         null,
         "1.0",
         null,
         null,
         "0.7",
         null,
         null,
         "small",
         "ovoid",
         "black",
         "black",
         "cryptic"
        ],
        [
         "3",
         "Acoelorrhaphe wrightii",
         "Acoelorrhaphe",
         "wrightii",
         "Trachycarpeae",
         "Coryphoideae",
         "climbing",
         "acaulescent",
         "non-erect",
         "solitary",
         "armed",
         "non-armed",
         "9.1",
         "15.0",
         "canopy",
         "25.0",
         "1.3",
         "0.7",
         "0.65",
         "0.7",
         null,
         null,
         "0.7",
         "0.5",
         "0.9",
         "small",
         "ovoid",
         "orange-brown; becomming black",
         "brown; black",
         "cryptic"
        ],
        [
         "4",
         "Acrocomia aculeata",
         "Acrocomia",
         "aculeata",
         "Cocoseae",
         "Arecoideae",
         "climbing",
         "acaulescent",
         "non-erect",
         "non-solitary",
         "non-armed",
         "non-armed",
         "12.0",
         "50.0",
         "canopy",
         "30.0",
         "3.5",
         "2.5",
         null,
         "4.25",
         "3.5",
         "5.0",
         "4.6",
         "3.8",
         "5.4",
         "large",
         "ovoid",
         "yellowish green",
         "green",
         "cryptic"
        ]
       ],
       "shape": {
        "columns": 29,
        "rows": 5
       }
      },
      "text/html": [
       "<div>\n",
       "<style scoped>\n",
       "    .dataframe tbody tr th:only-of-type {\n",
       "        vertical-align: middle;\n",
       "    }\n",
       "\n",
       "    .dataframe tbody tr th {\n",
       "        vertical-align: top;\n",
       "    }\n",
       "\n",
       "    .dataframe thead th {\n",
       "        text-align: right;\n",
       "    }\n",
       "</style>\n",
       "<table border=\"1\" class=\"dataframe\">\n",
       "  <thead>\n",
       "    <tr style=\"text-align: right;\">\n",
       "      <th></th>\n",
       "      <th>spec_name</th>\n",
       "      <th>acc_genus</th>\n",
       "      <th>acc_species</th>\n",
       "      <th>palm_tribe</th>\n",
       "      <th>palm_subfamily</th>\n",
       "      <th>climbing</th>\n",
       "      <th>acaulescent</th>\n",
       "      <th>erect</th>\n",
       "      <th>stem_solitary</th>\n",
       "      <th>stem_armed</th>\n",
       "      <th>...</th>\n",
       "      <th>min_fruit_length_cm</th>\n",
       "      <th>max_fruit_length_cm</th>\n",
       "      <th>average_fruit_width_cm</th>\n",
       "      <th>min_fruit_width_cm</th>\n",
       "      <th>max_fruit_width_cm</th>\n",
       "      <th>fruit_size_categorical</th>\n",
       "      <th>fruit_shape</th>\n",
       "      <th>fruit_color_description</th>\n",
       "      <th>main_fruit_colors</th>\n",
       "      <th>conspicuousness</th>\n",
       "    </tr>\n",
       "  </thead>\n",
       "  <tbody>\n",
       "    <tr>\n",
       "      <th>0</th>\n",
       "      <td>Acanthophoenix crinita</td>\n",
       "      <td>Acanthophoenix</td>\n",
       "      <td>crinita</td>\n",
       "      <td>Areceae</td>\n",
       "      <td>Arecoideae</td>\n",
       "      <td>climbing</td>\n",
       "      <td>acaulescent</td>\n",
       "      <td>non-erect</td>\n",
       "      <td>non-solitary</td>\n",
       "      <td>non-armed</td>\n",
       "      <td>...</td>\n",
       "      <td>0.6</td>\n",
       "      <td>0.7</td>\n",
       "      <td>0.5</td>\n",
       "      <td>NaN</td>\n",
       "      <td>NaN</td>\n",
       "      <td>small</td>\n",
       "      <td>NaN</td>\n",
       "      <td>black</td>\n",
       "      <td>black</td>\n",
       "      <td>cryptic</td>\n",
       "    </tr>\n",
       "    <tr>\n",
       "      <th>1</th>\n",
       "      <td>Acanthophoenix rousselii</td>\n",
       "      <td>Acanthophoenix</td>\n",
       "      <td>rousselii</td>\n",
       "      <td>Areceae</td>\n",
       "      <td>Arecoideae</td>\n",
       "      <td>climbing</td>\n",
       "      <td>acaulescent</td>\n",
       "      <td>non-erect</td>\n",
       "      <td>non-solitary</td>\n",
       "      <td>non-armed</td>\n",
       "      <td>...</td>\n",
       "      <td>NaN</td>\n",
       "      <td>NaN</td>\n",
       "      <td>0.8</td>\n",
       "      <td>NaN</td>\n",
       "      <td>NaN</td>\n",
       "      <td>small</td>\n",
       "      <td>ovoid</td>\n",
       "      <td>black</td>\n",
       "      <td>black</td>\n",
       "      <td>cryptic</td>\n",
       "    </tr>\n",
       "    <tr>\n",
       "      <th>2</th>\n",
       "      <td>Acanthophoenix rubra</td>\n",
       "      <td>Acanthophoenix</td>\n",
       "      <td>rubra</td>\n",
       "      <td>Areceae</td>\n",
       "      <td>Arecoideae</td>\n",
       "      <td>climbing</td>\n",
       "      <td>acaulescent</td>\n",
       "      <td>non-erect</td>\n",
       "      <td>non-solitary</td>\n",
       "      <td>non-armed</td>\n",
       "      <td>...</td>\n",
       "      <td>NaN</td>\n",
       "      <td>NaN</td>\n",
       "      <td>0.7</td>\n",
       "      <td>NaN</td>\n",
       "      <td>NaN</td>\n",
       "      <td>small</td>\n",
       "      <td>ovoid</td>\n",
       "      <td>black</td>\n",
       "      <td>black</td>\n",
       "      <td>cryptic</td>\n",
       "    </tr>\n",
       "    <tr>\n",
       "      <th>3</th>\n",
       "      <td>Acoelorrhaphe wrightii</td>\n",
       "      <td>Acoelorrhaphe</td>\n",
       "      <td>wrightii</td>\n",
       "      <td>Trachycarpeae</td>\n",
       "      <td>Coryphoideae</td>\n",
       "      <td>climbing</td>\n",
       "      <td>acaulescent</td>\n",
       "      <td>non-erect</td>\n",
       "      <td>solitary</td>\n",
       "      <td>armed</td>\n",
       "      <td>...</td>\n",
       "      <td>NaN</td>\n",
       "      <td>NaN</td>\n",
       "      <td>0.7</td>\n",
       "      <td>0.5</td>\n",
       "      <td>0.9</td>\n",
       "      <td>small</td>\n",
       "      <td>ovoid</td>\n",
       "      <td>orange-brown; becomming black</td>\n",
       "      <td>brown; black</td>\n",
       "      <td>cryptic</td>\n",
       "    </tr>\n",
       "    <tr>\n",
       "      <th>4</th>\n",
       "      <td>Acrocomia aculeata</td>\n",
       "      <td>Acrocomia</td>\n",
       "      <td>aculeata</td>\n",
       "      <td>Cocoseae</td>\n",
       "      <td>Arecoideae</td>\n",
       "      <td>climbing</td>\n",
       "      <td>acaulescent</td>\n",
       "      <td>non-erect</td>\n",
       "      <td>non-solitary</td>\n",
       "      <td>non-armed</td>\n",
       "      <td>...</td>\n",
       "      <td>3.5</td>\n",
       "      <td>5.0</td>\n",
       "      <td>4.6</td>\n",
       "      <td>3.8</td>\n",
       "      <td>5.4</td>\n",
       "      <td>large</td>\n",
       "      <td>ovoid</td>\n",
       "      <td>yellowish green</td>\n",
       "      <td>green</td>\n",
       "      <td>cryptic</td>\n",
       "    </tr>\n",
       "  </tbody>\n",
       "</table>\n",
       "<p>5 rows × 29 columns</p>\n",
       "</div>"
      ],
      "text/plain": [
       "                  spec_name       acc_genus acc_species     palm_tribe  \\\n",
       "0    Acanthophoenix crinita  Acanthophoenix     crinita        Areceae   \n",
       "1  Acanthophoenix rousselii  Acanthophoenix   rousselii        Areceae   \n",
       "2      Acanthophoenix rubra  Acanthophoenix       rubra        Areceae   \n",
       "3    Acoelorrhaphe wrightii   Acoelorrhaphe    wrightii  Trachycarpeae   \n",
       "4        Acrocomia aculeata       Acrocomia    aculeata       Cocoseae   \n",
       "\n",
       "  palm_subfamily  climbing  acaulescent      erect stem_solitary stem_armed  \\\n",
       "0     Arecoideae  climbing  acaulescent  non-erect  non-solitary  non-armed   \n",
       "1     Arecoideae  climbing  acaulescent  non-erect  non-solitary  non-armed   \n",
       "2     Arecoideae  climbing  acaulescent  non-erect  non-solitary  non-armed   \n",
       "3   Coryphoideae  climbing  acaulescent  non-erect      solitary      armed   \n",
       "4     Arecoideae  climbing  acaulescent  non-erect  non-solitary  non-armed   \n",
       "\n",
       "   ... min_fruit_length_cm  max_fruit_length_cm  average_fruit_width_cm  \\\n",
       "0  ...                 0.6                  0.7                     0.5   \n",
       "1  ...                 NaN                  NaN                     0.8   \n",
       "2  ...                 NaN                  NaN                     0.7   \n",
       "3  ...                 NaN                  NaN                     0.7   \n",
       "4  ...                 3.5                  5.0                     4.6   \n",
       "\n",
       "  min_fruit_width_cm  max_fruit_width_cm  fruit_size_categorical  fruit_shape  \\\n",
       "0                NaN                 NaN                   small          NaN   \n",
       "1                NaN                 NaN                   small        ovoid   \n",
       "2                NaN                 NaN                   small        ovoid   \n",
       "3                0.5                 0.9                   small        ovoid   \n",
       "4                3.8                 5.4                   large        ovoid   \n",
       "\n",
       "         fruit_color_description  main_fruit_colors  conspicuousness  \n",
       "0                          black              black          cryptic  \n",
       "1                          black              black          cryptic  \n",
       "2                          black              black          cryptic  \n",
       "3  orange-brown; becomming black       brown; black          cryptic  \n",
       "4                yellowish green              green          cryptic  \n",
       "\n",
       "[5 rows x 29 columns]"
      ]
     },
     "execution_count": 8,
     "metadata": {},
     "output_type": "execute_result"
    }
   ],
   "source": [
    "# Download files from the week, which you can then read in locally\n",
    "# pydytuesday.get_date('2025-03-18')\n",
    "\n",
    "# Option 2: Read directly from GitHub and assign to an object\n",
    "main_url = 'https://raw.githubusercontent.com/rfordatascience/tidytuesday/main/'\n",
    "data_url = 'data/2025/2025-03-18/palmtrees.csv'\n",
    "palmtrees = pd.read_csv(main_url + data_url , encoding='windows-1252')\n",
    "palmtrees.head()\n",
    "\n"
   ]
  },
  {
   "cell_type": "code",
   "execution_count": 12,
   "id": "9c2b2a0f",
   "metadata": {},
   "outputs": [
    {
     "data": {
      "text/plain": [
       "<Axes: xlabel='palm_subfamily'>"
      ]
     },
     "execution_count": 12,
     "metadata": {},
     "output_type": "execute_result"
    },
    {
     "data": {
      "image/png": "[encoded data removed]",
      "text/plain": [
       "<Figure size 640x480 with 1 Axes>"
      ]
     },
     "metadata": {},
     "output_type": "display_data"
    }
   ],
   "source": [
    "palmtrees.value_counts('palm_subfamily').plot(kind= 'bar')"
   ]
  },
  {
   "cell_type": "code",
   "execution_count": 15,
   "id": "88d0b736",
   "metadata": {},
   "outputs": [
    {
     "data": {
      "text/plain": [
       "<Axes: xlabel='palm_subfamily', ylabel='count'>"
      ]
     },
     "execution_count": 15,
     "metadata": {},
     "output_type": "execute_result"
    },
    {
     "data": {
      "image/png": "[encoded data removed]",
      "text/plain": [
       "<Figure size 640x480 with 1 Axes>"
      ]
     },
     "metadata": {},
     "output_type": "display_data"
    }
   ],
   "source": [
    "subfam = palmtrees.value_counts('palm_subfamily').reset_index()\n",
    "sns.barplot(subfam, x = 'palm_subfamily', y = 'count', hue = 'palm_subfamily')"
   ]
  }
 ],
 "metadata": {
  "kernelspec": {
   "display_name": ".venv",
   "language": "python",
   "name": "python3"
  },
  "language_info": {
   "codemirror_mode": {
    "name": "ipython",
    "version": 3
   },
   "file_extension": ".py",
   "mimetype": "text/x-python",
   "name": "python",
   "nbconvert_exporter": "python",
   "pygments_lexer": "ipython3",
   "version": "3.13.3"
  }
 },
 "nbformat": 4,
 "nbformat_minor": 5
}
